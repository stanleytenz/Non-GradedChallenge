{
 "cells": [
  {
   "cell_type": "markdown",
   "metadata": {},
   "source": [
    "Task 1:"
   ]
  },
  {
   "cell_type": "code",
   "execution_count": 6,
   "metadata": {},
   "outputs": [
    {
     "name": "stdout",
     "output_type": "stream",
     "text": [
      "2\n"
     ]
    }
   ],
   "source": [
    "def number_of_word(sentence):\n",
    "\n",
    "    x= sentence.split()\n",
    "    return len(x)\n",
    "\n",
    "sentence= input(\"input your sentence please: \")\n",
    "print(number_of_word(sentence))\n"
   ]
  },
  {
   "cell_type": "markdown",
   "metadata": {},
   "source": [
    "Task 2:"
   ]
  },
  {
   "cell_type": "code",
   "execution_count": 29,
   "metadata": {},
   "outputs": [
    {
     "name": "stdout",
     "output_type": "stream",
     "text": [
      "[10, 20, 30, 40, 50]\n"
     ]
    }
   ],
   "source": [
    "def find_multiples(start_range, end_range,multiple):\n",
    "\n",
    "    a=[]\n",
    "\n",
    "    for i in range(start_range,end_range+1):\n",
    "        a.append(i)\n",
    "        i= i+1\n",
    "\n",
    "    tamp= a[start_range:end_range:multiple]\n",
    "    answer= [x - 2 + multiple for x in tamp]\n",
    "    return answer\n",
    "\n",
    "start_range= int(input(\"insert your start_range: \"))\n",
    "end_range= int(input('insert your end_range: '))\n",
    "multiple= int(input('insert your multiple: '))\n",
    "\n",
    "print(find_multiples(start_range, end_range,multiple))\n"
   ]
  },
  {
   "cell_type": "markdown",
   "metadata": {},
   "source": [
    "Task 3:"
   ]
  },
  {
   "cell_type": "code",
   "execution_count": 38,
   "metadata": {},
   "outputs": [
    {
     "name": "stdout",
     "output_type": "stream",
     "text": [
      "C\n"
     ]
    }
   ],
   "source": [
    "def Grade_Converter(convert_to, score):\n",
    "\n",
    "    result =0\n",
    "\n",
    "    def get_gpa(score):\n",
    "\n",
    "        if 100 >= score >= 85:\n",
    "            return 4.0\n",
    "        elif 84 >= score >= 70:\n",
    "            return 3.0\n",
    "        elif 69 >= score >= 60:\n",
    "            return 2.5\n",
    "        elif 59 >= score >= 50:\n",
    "            return 2.0\n",
    "        elif 49 >= score >= 40:\n",
    "            return 1.5\n",
    "        elif 39 >= score >= 0:\n",
    "            return 1.0\n",
    "        \n",
    "    def get_grade(score):\n",
    "\n",
    "        if 100 >= score >= 85:\n",
    "            return 'A'\n",
    "        elif 84 >= score >= 70:\n",
    "            return 'B'\n",
    "        elif 69 >= score >= 60:\n",
    "            return 'C'\n",
    "        elif 59 >= score >= 50:\n",
    "            return 'D'\n",
    "        elif 49 >= score >= 40:\n",
    "            return 'E'\n",
    "        elif 39 >= score >= 0:\n",
    "            return 'F'\n",
    "\n",
    "    if convert_to == 'letter_grade':\n",
    "            result= get_grade(score)\n",
    "    elif convert_to == 'gpa':\n",
    "            result = get_gpa(score)\n",
    "\n",
    "    return result\n",
    "\n",
    "convert_to = input('please insert converter: ')\n",
    "score= int(input('please insert score: '))\n",
    "print(Grade_Converter(convert_to, score))\n",
    "\n"
   ]
  },
  {
   "cell_type": "markdown",
   "metadata": {},
   "source": [
    "Task 4:"
   ]
  },
  {
   "cell_type": "code",
   "execution_count": 57,
   "metadata": {},
   "outputs": [
    {
     "name": "stdout",
     "output_type": "stream",
     "text": [
      "55\n"
     ]
    }
   ],
   "source": [
    "def fibonacci(n):\n",
    "\n",
    "    fibbo=[0,1]\n",
    "    for i in range(100):\n",
    "        fibbo.append(fibbo[i]+fibbo[i+1])\n",
    "        i=n\n",
    "\n",
    "    return fibbo[n]\n",
    "\n",
    "n=int(input('masukkan nilai n: '))\n",
    "print(fibonacci(n))"
   ]
  },
  {
   "cell_type": "code",
   "execution_count": null,
   "metadata": {},
   "outputs": [],
   "source": []
  }
 ],
 "metadata": {
  "kernelspec": {
   "display_name": "base",
   "language": "python",
   "name": "python3"
  },
  "language_info": {
   "codemirror_mode": {
    "name": "ipython",
    "version": 3
   },
   "file_extension": ".py",
   "mimetype": "text/x-python",
   "name": "python",
   "nbconvert_exporter": "python",
   "pygments_lexer": "ipython3",
   "version": "3.9.13"
  }
 },
 "nbformat": 4,
 "nbformat_minor": 2
}
