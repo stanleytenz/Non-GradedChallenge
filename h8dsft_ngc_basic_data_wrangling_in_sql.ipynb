{
 "cells": [
  {
   "cell_type": "markdown",
   "metadata": {},
   "source": [
    "Non-Graded Challenge 5:"
   ]
  },
  {
   "cell_type": "code",
   "execution_count": null,
   "metadata": {
    "vscode": {
     "languageId": "sql"
    }
   },
   "outputs": [],
   "source": [
    "create table customers(\n",
    "\tcustomer_id int primary key,\n",
    "\tcustomer_name varchar(50),\n",
    "\tcity varchar(20)\n",
    ");\n",
    "\n",
    "create table orders(\n",
    "\torder_id int primary key,\n",
    "\tcustomer_id int,\n",
    "\torder_date date,\n",
    "\ttotal_amount float,\n",
    "\n",
    "\tforeign key (customer_id) references customers(customer_id)\n",
    ");\n",
    "\n",
    "drop table orders cascade;\n",
    "\n",
    "insert into customers(customer_id, customer_name, city)\n",
    "values (1, 'John Doe', 'New York'), (2, 'Jane Smith', 'Los Angeles'), (3,'David Johnson', 'Chicago');\n",
    "\n",
    "insert into orders(order_id, customer_id, order_date, total_amount)\n",
    "values (1, 1, '2022-01-10', 100.00),(2,1,'2022-02-15', 150.00), (3,2,'2022-03-20', 200.00), (4,3,'2022-04-25', 50.00);\n",
    "\n",
    "select * from orders;\n",
    "select * from customers;\n",
    "\n",
    "select c.customer_name, count(1)\n",
    "from orders o\n",
    "\tjoin customers c on o.customer_id = c.customer_id\n",
    "group by c.customer_name;"
   ]
  }
 ],
 "metadata": {
  "language_info": {
   "name": "python"
  }
 },
 "nbformat": 4,
 "nbformat_minor": 2
}
